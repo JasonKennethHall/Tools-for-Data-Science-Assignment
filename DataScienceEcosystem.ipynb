{
 "cells": [
  {
   "cell_type": "markdown",
   "id": "e05b0ba3-b9c8-4bfd-bcac-e4ad7a3c7236",
   "metadata": {},
   "source": [
    "# Data Science Tools and Ecosystem"
   ]
  },
  {
   "cell_type": "markdown",
   "id": "9a6cc4c1-a7a5-4367-ac3b-79a119c18149",
   "metadata": {},
   "source": [
    "In this notebook, Data Science Tools and Ecosystems will be nicely summarized."
   ]
  },
  {
   "cell_type": "markdown",
   "id": "603c88ca-d575-41a2-bc15-1e3f698e75aa",
   "metadata": {},
   "source": [
    "__Objectives__:\n",
    "* List popular languages in Data Science\n",
    "* List popular libraries used in Data Science\n",
    "* Tabulate popular tools used in Data Science\n",
    "* List some examples of evaluating arithmetic expressions in Python"
   ]
  },
  {
   "cell_type": "markdown",
   "id": "420c0b77-3649-4070-85eb-bfb851000997",
   "metadata": {},
   "source": [
    "Some of the popular languages that Data Scientists use are:\n",
    "1. Python\n",
    "2. R\n",
    "3. C++\n",
    "4. SQL\n",
    "5. Java"
   ]
  },
  {
   "cell_type": "markdown",
   "id": "88fb4290-87f6-4641-8ddb-5b68aad42415",
   "metadata": {},
   "source": [
    "Some of the commonly used libraries used by Data Scientists include:\n",
    "1. Pandas\n",
    "2. NumPy\n",
    "3. PyTorch\n",
    "4. Matplotlib\n",
    "5. TensorFlow"
   ]
  },
  {
   "cell_type": "markdown",
   "id": "5decd746-aa8d-4b23-a846-8b85634a80d2",
   "metadata": {
    "jp-MarkdownHeadingCollapsed": true,
    "tags": []
   },
   "source": [
    "|Data Science Tools|\n",
    "------------------\n",
    "Jupyter Notebooks\n",
    "R Studio\n",
    "Spyder"
   ]
  },
  {
   "cell_type": "markdown",
   "id": "e8752597-1054-467f-b91f-d7eb15f6c473",
   "metadata": {},
   "source": [
    "### Below are a few examples of evaluating arithmetic expressions in Python:"
   ]
  },
  {
   "cell_type": "code",
   "execution_count": 1,
   "id": "b72a0e77-982c-4ffb-b7f6-99af98d773a6",
   "metadata": {
    "tags": []
   },
   "outputs": [
    {
     "data": {
      "text/plain": [
       "17"
      ]
     },
     "execution_count": 1,
     "metadata": {},
     "output_type": "execute_result"
    }
   ],
   "source": [
    "# This a simple arithmetic expression to mutiply then add integers\n",
    "(3*4)+5"
   ]
  },
  {
   "cell_type": "code",
   "execution_count": 3,
   "id": "5384e920-6f06-447f-9a5d-cae1c030dfd5",
   "metadata": {
    "tags": []
   },
   "outputs": [
    {
     "data": {
      "text/plain": [
       "3.3333333333333335"
      ]
     },
     "execution_count": 3,
     "metadata": {},
     "output_type": "execute_result"
    }
   ],
   "source": [
    "# This will convert 200 minutes to hours by diving by 60\n",
    "minutes = 200\n",
    "hours = minutes / 60\n",
    "# Output the result\n",
    "hours"
   ]
  },
  {
   "cell_type": "markdown",
   "id": "6ebdc86d-c57c-4e4c-acfb-16dc65937cf5",
   "metadata": {},
   "source": [
    "## Author\n",
    "Jason Hall"
   ]
  },
  {
   "cell_type": "code",
   "execution_count": null,
   "id": "adb64deb-85c3-40d1-bd25-7617356a272b",
   "metadata": {},
   "outputs": [],
   "source": []
  }
 ],
 "metadata": {
  "kernelspec": {
   "display_name": "Python",
   "language": "python",
   "name": "conda-env-python-py"
  },
  "language_info": {
   "codemirror_mode": {
    "name": "ipython",
    "version": 3
   },
   "file_extension": ".py",
   "mimetype": "text/x-python",
   "name": "python",
   "nbconvert_exporter": "python",
   "pygments_lexer": "ipython3",
   "version": "3.7.12"
  }
 },
 "nbformat": 4,
 "nbformat_minor": 5
}
